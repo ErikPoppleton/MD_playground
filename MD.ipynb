{
 "cells": [
  {
   "cell_type": "code",
   "execution_count": 176,
   "metadata": {},
   "outputs": [],
   "source": [
    "import numpy as np\n",
    "import matplotlib.pyplot as plt\n",
    "from cycler import cycler\n",
    "from scipy.special import erf\n",
    "\n",
    "plt.rcParams['font.family'] = 'Times New Roman'\n",
    "plt.rcParams['font.style'] = 'italic'\n",
    "plt.rcParams['font.size'] = 14\n",
    "plt.rcParams['axes.titley'] = 1.05\n",
    "plt.rcParams['axes.titlepad'] = -40\n",
    "plt.rcParams['axes.prop_cycle'] = cycler('color', ['#008080', '#DB803D', '#A6A14D', '#82C9B1', '#F3C887', '#DDD99B'])\n",
    "\n",
    "# global timestep\n",
    "DT = 0.005 # ns\n",
    "\n",
    "#conversion constants\n",
    "amu_to_ng = 1.66e-15 #1 amu = 1.66e-15 ng\n",
    "kB = 8.31446261815324 #J/KMol\n",
    "kB_reduced = 0.0138*1e-9 #pNnm/K"
   ]
  },
  {
   "cell_type": "code",
   "execution_count": 50,
   "metadata": {},
   "outputs": [],
   "source": [
    "# Super simple energy functions based on distance\n",
    "def E_ab(r, **kwargs):\n",
    "    return(-abs(1/r))\n",
    "\n",
    "def E_ac(r, **kwargs):\n",
    "    return(-abs(2/r))\n",
    "\n",
    "def E_bc(r, **kwargs):\n",
    "    return(0)\n",
    "\n",
    "def E_LJ(r, **kwargs):\n",
    "    if 's' in kwargs.keys():\n",
    "        s = kwargs['s']\n",
    "    else:\n",
    "        s = 1\n",
    "        \n",
    "    return(4*1 * ((s/r)**12 - (s/r)**6))"
   ]
  },
  {
   "cell_type": "code",
   "execution_count": 169,
   "metadata": {},
   "outputs": [],
   "source": [
    "# Force functions (derivatives of the energy functions)\n",
    "# r is the vector from p to q\n",
    "def F_ab(r, **kwargs):\n",
    "    mag = (1/np.linalg.norm(r)**2)\n",
    "    dir = (r)/np.linalg.norm(r)\n",
    "    return(mag*dir)\n",
    "\n",
    "def F_ac(r, **kwargs):\n",
    "    mag = (2/np.linalg.norm(r)**2)\n",
    "    dir = (r)/np.linalg.norm(r)\n",
    "    return(mag*dir)\n",
    "\n",
    "def F_bc(r, **kwargs):\n",
    "    return np.zeros_like(r)\n",
    "\n",
    "def F_lj(r, **kwargs):\n",
    "    if 'mass' in kwargs.keys(): m = kwargs['mass']\n",
    "    else: m = 1\n",
    "\n",
    "    if 's' in kwargs.keys(): s = kwargs['s']\n",
    "    else: s = 1\n",
    "\n",
    "    if 'e' in kwargs.keys(): e = kwargs['e']\n",
    "    else: e = 1\n",
    "\n",
    "    rnorm = np.sqrt(np.einsum('...i,...i', r, r))\n",
    "    #print(rnorm)\n",
    "    np.fill_diagonal(rnorm, 1)\n",
    "    mag = -48*e * ((s**12/rnorm**13) - (0.5 * s**6 / rnorm**7))# / m\n",
    "    np.fill_diagonal(mag, 0)\n",
    "    #print(mag)\n",
    "    dir = r/rnorm[...,np.newaxis]\n",
    "    #print(dir)\n",
    "    return(dir*mag[...,np.newaxis])#*1e15)"
   ]
  },
  {
   "cell_type": "code",
   "execution_count": 40,
   "metadata": {},
   "outputs": [],
   "source": [
    "# Maxwell-boltzmann distribution for generating velocities\n",
    "\n",
    "def mb(v, m, T):\n",
    "    return ((m/1000)/(2*np.pi*kB*T))**(3/2) * (4*np.pi*(v**2)) * np.exp(-((m/1000)*(v**2))/(2*kB*T)) #have to divide molar mass by 1000 to get kg\n",
    "\n",
    "# my reduced units:\n",
    "# 1 distance = 1 nm\n",
    "# 1 time = 1 ns\n",
    "# 1 temperature = 1K\n",
    "# 1 mass = 1 ng\n",
    "# 1 velocity = 1 nm/ns\n",
    "# 1 force = 1 pN\n",
    "# 1 energy = pNnm\n",
    "# kB = 0.0138 pNnm/K -> have to multiply by an additional 10^-9 factor to make other units cancel\n",
    "\n",
    "def mb_reduced(v, m, T):\n",
    "    return ((m*amu_to_ng)/(2*np.pi*kB_reduced*T))**(3/2) * (4*np.pi*(v**2)) * np.exp(-((m*amu_to_ng)*(v**2))/(2*kB_reduced*T))\n",
    "\n",
    "# Rejection sampling\n",
    "def sample(T, m):\n",
    "    mn=0 # Lowest value of domain\n",
    "    mx=3000 # Highest value of domain\n",
    "    bound=0.004 # Upper bound of PDF value\n",
    "    while True: # Do the following until a value is returned\n",
    "       # Choose an X inside the desired sampling domain.\n",
    "       x=np.random.uniform(mn,mx)\n",
    "       # Choose a Y between 0 and the maximum PDF value.\n",
    "       y=np.random.uniform(0,bound)\n",
    "       # Calculate PDF\n",
    "       pdf=mb_reduced(x, m, T)\n",
    "       # Does (x,y) fall in the PDF?\n",
    "       if y<pdf:\n",
    "           # Yes, so return x\n",
    "           return x\n",
    "       # No, so loop"
   ]
  },
  {
   "cell_type": "code",
   "execution_count": 41,
   "metadata": {},
   "outputs": [],
   "source": [
    "class Interaction:\n",
    "\n",
    "    def __init__(self, particles, function, kwargs = {}):\n",
    "        self.particles = particles\n",
    "        self.function = function\n",
    "        self.kwargs = kwargs\n",
    "\n",
    "def min_image(p1s, p2s, box):\n",
    "    p1s = p1s - (np.floor(p1s/box) * box)\n",
    "    p2s = p2s - (np.floor(p2s/box) * box)\n",
    "    diff = p1s[np.newaxis,:] - p2s[:,np.newaxis]\n",
    "    diff = diff - (np.round(diff/box)*box)\n",
    "    return diff\n",
    "\n",
    "def inbox(x, box):\n",
    "    return(((x % box) + box) % box)"
   ]
  },
  {
   "cell_type": "code",
   "execution_count": 42,
   "metadata": {},
   "outputs": [],
   "source": [
    "# plotting function\n",
    "def plot_configuration(points, bounds=np.array([[],[]]), kwdict={}):\n",
    "\n",
    "    fig, ax = plt.subplots()\n",
    "    plt.axis('scaled')\n",
    "    x_min = y_min = 1000\n",
    "    x_max = y_max = -1000\n",
    "    mid = np.zeros(2)\n",
    "    \n",
    "    for p in points:\n",
    "        ax.scatter(p[0], p[1], s=3200, **kwdict)\n",
    "\n",
    "        mid += p\n",
    "        if p[0] > x_max: x_max = p[0]\n",
    "        if p[0] < x_min: x_min = p[0]\n",
    "        if p[1] > y_max: y_max = p[1]\n",
    "        if p[1] < y_min: y_min = p[1]\n",
    "    \n",
    "    if len(bounds[0]) == 0:   \n",
    "        mid /= len(points)\n",
    "        x_bound = 1.3*max(np.linalg.norm(mid-x_min), np.linalg.norm(mid-x_max))\n",
    "        y_bound = 1.3*max(np.linalg.norm(mid-y_min), np.linalg.norm(mid-y_max))\n",
    "        sq_bound = max(x_bound, y_bound)\n",
    "\n",
    "        ax.set_xbound(mid[0]-sq_bound, mid[0]+sq_bound)\n",
    "        ax.set_ybound(mid[1]-sq_bound, mid[1]+sq_bound)\n",
    "\n",
    "    else:\n",
    "        ax.set_xbound(bounds[0][0], bounds[0][1])\n",
    "        ax.set_ybound(bounds[1][0], bounds[1][1])            \n",
    "\n",
    "    ax.spines[['right', 'top', 'bottom', 'left']].set_visible(False)\n",
    "    plt.axis('off')\n",
    "    plt.autoscale(False)\n",
    "\n",
    "    return (fig, ax)\n",
    "\n",
    "def draw_lines(ax, p, q, c='k'):\n",
    "    ax.plot([p[0], q[0]], [p[1], q[1]], c=c, linestyle='--')\n"
   ]
  },
  {
   "cell_type": "code",
   "execution_count": 43,
   "metadata": {},
   "outputs": [
    {
     "name": "stdout",
     "output_type": "stream",
     "text": [
      "Etot = -3.00\n"
     ]
    },
    {
     "data": {
      "image/png": "[encoded data removed]",
      "text/plain": [
       "<Figure size 640x480 with 1 Axes>"
      ]
     },
     "metadata": {},
     "output_type": "display_data"
    },
    {
     "data": {
      "image/png": "[encoded data removed]",
      "text/plain": [
       "<Figure size 640x480 with 1 Axes>"
      ]
     },
     "metadata": {},
     "output_type": "display_data"
    }
   ],
   "source": [
    "# initialize a system and plot it\n",
    "a = np.array([0, 0])\n",
    "b = np.array([1, 0])\n",
    "c = np.array([0, 1])\n",
    "\n",
    "# Save an initial one with no annotations as a reference\n",
    "fig, ax = plot_configuration([a, b, c], kwdict={'edgecolors':'b','linestyle':'--'})\n",
    "bounds = np.array([ax.get_xbound(), ax.get_ybound()])\n",
    "plt.tight_layout()\n",
    "plt.savefig('t0_no_annot.png', dpi=300, transparent=True)\n",
    "\n",
    "eab = E_ab(np.linalg.norm(a-b))\n",
    "eac = E_ac(np.linalg.norm(a-c))\n",
    "ebc = E_bc(np.linalg.norm(b-c))\n",
    "E = eab+eac+ebc\n",
    "\n",
    "fig, ax = plot_configuration([a, b, c], bounds)\n",
    "draw_lines(ax, a, b)\n",
    "draw_lines(ax, a, c)\n",
    "draw_lines(ax, b, c)\n",
    "\n",
    "ax.annotate(f\"d={np.linalg.norm(a-b):.0f}, ε={eab:.0f}\", np.mean([a, b], axis=0)-[0, 0.3], ha='center')\n",
    "ax.annotate(f\"d={np.linalg.norm(a-c):.0f}, ε={eac:.0f}\", np.mean([a, c], axis=0)-[0.4, 0], ha='center')\n",
    "ax.annotate(f\"d={np.linalg.norm(b-c):.2f}, ε={ebc:.0f}\", np.mean([b, c], axis=0)+[0.4, 0], ha='center')\n",
    "\n",
    "ax.set_title(f't=1, E={E:.2f}')\n",
    "\n",
    "\n",
    "\n",
    "plt.tight_layout()\n",
    "plt.savefig('t0.png', dpi=300, transparent=True)\n",
    "\n",
    "print(f\"Etot = {eab+eac+ebc:.2f}\")"
   ]
  },
  {
   "cell_type": "code",
   "execution_count": 173,
   "metadata": {},
   "outputs": [],
   "source": [
    "# Verlet integration\n",
    "def velocity_verlet(xt, vt, at, interaction_masks):\n",
    "    at1 = np.zeros_like(xt, dtype=np.float64) #acceleration at t+1\n",
    "    xt1 = xt + vt*DT + 0.5*at*DT**2 #positions at t+1\n",
    "    diff = xt1[np.newaxis,:] - xt1[:,np.newaxis] # vectors from all particles to all other particles\n",
    "    \n",
    "    # Loop over interacting sets of particles, applying the interaction.  Acceleration for an interaction is the sum over all pairs\n",
    "    for im in interaction_masks:\n",
    "        a = np.sum(im.function(diff[np.ix_(im.particles, im.particles)], **im.kwargs), axis=1)\n",
    "        #print(a)\n",
    "        at1[im.particles,:] += a\n",
    "\n",
    "    # update, x, v, a\n",
    "    return(xt1, vt + 0.5*(at+at1)*DT, at1)"
   ]
  },
  {
   "cell_type": "code",
   "execution_count": 68,
   "metadata": {},
   "outputs": [],
   "source": [
    "# Actually run a simulation\n",
    "\n",
    "a = np.array([0, 0])\n",
    "b = np.array([1, 0])\n",
    "c = np.array([0, 1])\n",
    "#fig, ax = plot_configuration([a, b, c], bounds)\n",
    "\n",
    "# turn it into a single numpy array for computation\n",
    "x0 = np.array([a, b, c])\n",
    "v0 = np.zeros_like(x0)\n",
    "a0 = np.zeros_like(x0)\n",
    "\n",
    "# create force calculation masks\n",
    "interaction_masks = [Interaction([0,1], F_ab), Interaction([0,2], F_ac), Interaction([1,2], F_bc)]\n",
    "\n",
    "x = x0\n",
    "v = v0\n",
    "a = a0\n",
    "for i in range(100):\n",
    "    x, v, a = velocity_verlet(x, v, a, interaction_masks)\n",
    "    fig, ax = plot_configuration([x[0], x[1], x[2]], bounds)\n",
    "    eab = E_ab(np.linalg.norm(x[0]-x[1]))\n",
    "    eac = E_ac(np.linalg.norm(x[0]-x[2]))\n",
    "    ebc = E_bc(np.linalg.norm(x[1]-x[2]))\n",
    "    V = eab+eac+ebc\n",
    "    draw_lines(ax, x[0], x[1])\n",
    "    draw_lines(ax, x[0], x[2])\n",
    "    draw_lines(ax, x[1], x[2])\n",
    "    ax.annotate(f\"d={np.linalg.norm(x[0]-x[1]):.2f}, ε={eab:.2f}\", np.mean([x[0], x[1]], axis=0)-[0, 0.3], ha='center')\n",
    "    ax.annotate(f\"d={np.linalg.norm(x[0]-x[2]):.2f}, ε={eac:.2f}\", np.mean([x[0], x[2]], axis=0)-[0.5, 0.1], ha='center')\n",
    "    ax.annotate(f\"d={np.linalg.norm(x[1]-x[2]):.2f}, ε={ebc:.2f}\", np.mean([x[1], x[2]], axis=0)+[0.5, 0.1], ha='center')\n",
    "\n",
    "    ax.set_title(f't={DT*i:.2f}, V={V:.2f}')\n",
    "    plt.savefig(f'md_video/{i}.png', dpi=200)\n",
    "    plt.close(fig)"
   ]
  },
  {
   "cell_type": "code",
   "execution_count": 88,
   "metadata": {},
   "outputs": [],
   "source": [
    "# Run a simulation with an additional LJ term\n",
    "\n",
    "def F_abl(r, **kwargs): return(F_ab(r) + F_lj(r, **kwargs)) \n",
    "def F_acl(r, **kwargs): return(F_ac(r) + F_lj(r, **kwargs))\n",
    "def F_bcl(r, **kwargs): return(F_bc(r) + F_lj(r, **kwargs)) \n",
    "\n",
    "def E_abl(r, **kwargs): return(E_ab(r) + E_LJ(r, **kwargs)) \n",
    "def E_acl(r, **kwargs): return(E_ac(r) + E_LJ(r, **kwargs)) \n",
    "def E_bcl(r, **kwargs): return(E_bc(r) + E_LJ(r, **kwargs)) \n",
    "\n",
    "\n",
    "kwargs = {'mass': 1, 's': 0.5, 'e': 1}\n",
    "# create force calculation masks\n",
    "interaction_masks = [Interaction([0,1], F_abl, kwargs), Interaction([0,2], F_acl, kwargs), Interaction([1,2], F_bcl, kwargs)]\n",
    "\n",
    "x = x0\n",
    "v = v0\n",
    "a = a0\n",
    "for i in range(200):\n",
    "    x, v, a = velocity_verlet(x, v, a, interaction_masks)\n",
    "    fig, ax = plot_configuration([x[0], x[1], x[2]], bounds)\n",
    "    eabl = E_abl(np.linalg.norm(x[0]-x[1]), **kwargs)\n",
    "    eacl = E_acl(np.linalg.norm(x[0]-x[2]), **kwargs)\n",
    "    ebcl = E_bcl(np.linalg.norm(x[1]-x[2]), **kwargs)\n",
    "    V = eabl+eacl+ebcl\n",
    "    draw_lines(ax, x[0], x[1])\n",
    "    draw_lines(ax, x[0], x[2])\n",
    "    draw_lines(ax, x[1], x[2])\n",
    "    ax.annotate(f\"d={np.linalg.norm(x[0]-x[1]):.2f}, ε={eabl:.2f}\", np.mean([x[0], x[1]], axis=0)-[0, 0.3], ha='center')\n",
    "    ax.annotate(f\"d={np.linalg.norm(x[0]-x[2]):.2f}, ε={eacl:.2f}\", np.mean([x[0], x[2]], axis=0)-[0.5, 0.1], ha='center')\n",
    "    ax.annotate(f\"d={np.linalg.norm(x[1]-x[2]):.2f}, ε={ebcl:.2f}\", np.mean([x[1], x[2]], axis=0)+[0.5, 0.1], ha='center')\n",
    "\n",
    "    ax.set_title(f't={DT*i:.2f}, V={V:.2f}')\n",
    "    plt.savefig(f'md_video2/{i}.png', dpi=200)\n",
    "    plt.close(fig)"
   ]
  },
  {
   "cell_type": "code",
   "execution_count": 202,
   "metadata": {},
   "outputs": [
    {
     "data": {
      "text/plain": [
       "<matplotlib.collections.PathCollection at 0x289748f90>"
      ]
     },
     "execution_count": 202,
     "metadata": {},
     "output_type": "execute_result"
    },
    {
     "data": {
      "image/png": "[encoded data removed]",
      "text/plain": [
       "<Figure size 640x480 with 1 Axes>"
      ]
     },
     "metadata": {},
     "output_type": "display_data"
    }
   ],
   "source": [
    "n_particles = 100\n",
    "start_box = 100\n",
    "mass = 83 #krypton\n",
    "temperature = 1 #kelvin\n",
    "#x0 = np.random.random(2*n_particles)*start_box\n",
    "#x0 = x0.reshape((n_particles,2))\n",
    "x = np.linspace(0, 90, 10)\n",
    "x0 = np.array(np.array(np.meshgrid(x, x))).T.reshape(n_particles, 2)\n",
    "v0 = np.empty_like(x0)\n",
    "s0 = np.empty(n_particles)\n",
    "for i in range(len(x0)):\n",
    "    s0[i] = sample(temperature, mass) #this is technically speeds for 3D krypton, not 2D\n",
    "\n",
    "vx = np.array([np.random.uniform(0, s) for s in s0**2])\n",
    "vy = s0**2-vx\n",
    "v0[:,0] = np.random.choice([-1, 1], len(vx))*np.sqrt(vx.T)\n",
    "v0[:,1] = np.random.choice([-1, 1], len(vx))*np.sqrt(vy.T)\n",
    "a0 = np.zeros_like(x0)\n",
    "\n",
    "fig, ax = plt.subplots()\n",
    "ax.scatter(x0[:,0], x0[:,1])"
   ]
  },
  {
   "cell_type": "code",
   "execution_count": 204,
   "metadata": {},
   "outputs": [
    {
     "name": "stdout",
     "output_type": "stream",
     "text": [
      "step: 0\n",
      "step: 10\n",
      "step: 20\n",
      "step: 30\n",
      "step: 40\n",
      "step: 50\n",
      "step: 60\n",
      "step: 70\n",
      "step: 80\n",
      "step: 90\n"
     ]
    },
    {
     "data": {
      "image/png": "[encoded data removed]",
      "text/plain": [
       "<Figure size 640x480 with 1 Axes>"
      ]
     },
     "metadata": {},
     "output_type": "display_data"
    }
   ],
   "source": [
    "x = x0\n",
    "v = v0\n",
    "a = a0\n",
    "\n",
    "kwargs = {'mass' : mass*amu_to_ng, 's' : 0.5, 'e' : 1}\n",
    "interaction_masks = [Interaction(np.arange(n_particles), F_lj, kwargs)]\n",
    "#vel0 = []\n",
    "vel1 = []\n",
    "#vel2 = []\n",
    "\n",
    "n_steps = 100\n",
    "\n",
    "for i in range(n_steps):\n",
    "    if i%10 == 0: print(\"step:\", i)\n",
    "    x, v, a = velocity_verlet(x, v, a, interaction_masks)\n",
    "    #print(v[1], a[1])\n",
    "    #vel0.append(np.linalg.norm(v[0]))\n",
    "    vel1.append(np.linalg.norm(v[1]))\n",
    "    #vel2.append(np.linalg.norm(v[2]))\n",
    "    x = inbox(x, start_box*2)\n",
    "    ke = np.sum(np.linalg.norm(v)**2)/n_particles\n",
    "    dists = np.linalg.norm(x[np.newaxis,:] - x[:,np.newaxis], axis=2)[np.tril_indices(len(x),-1)]\n",
    "    pe = E_LJ(dists, **kwargs)\n",
    "    pe_square = np.zeros((len(x), len(x)))\n",
    "    lti = np.tril_indices(len(x),-1)\n",
    "    pe_square[lti] = pe\n",
    "    pe_square += pe_square.T\n",
    "    pe_per_particle = np.sum(pe_square, axis=1)\n",
    "    #pe = np.sum(E_LJ(1, np.linalg.norm(x[np.newaxis,:] - x[:,np.newaxis], axis=2)[np.tril_indices(len(x),-1)]), axis=1)*2\n",
    "    pet = sum(pe_per_particle)/n_particles\n",
    "    \n",
    "    fig, ax = fig, ax = plt.subplots()\n",
    "    p = ax.scatter(x[:,0], x[:,1], c=np.arange(n_particles), cmap='rainbow')\n",
    "\n",
    "    ax.set_xbound(0, 100)\n",
    "    ax.set_ybound(0, 100)\n",
    "\n",
    "    ax.set_title(f't={DT*i:.2f}, KE={ke:.2f}, PE={pet:.2f}', y=1.05, pad=0)\n",
    "\n",
    "    plt.colorbar(p, label='Energy')\n",
    "    plt.savefig(f'md_video3/{i}.png', dpi=200)\n",
    "    plt.close(fig)\n",
    "\n",
    "fig, ax = plt.subplots()\n",
    "#ax.plot(np.arange(n_steps), vel0)\n",
    "ax.plot(np.arange(n_steps), vel1)\n",
    "#ax.plot(np.arange(n_steps), vel2)\n",
    "plt.show()\n"
   ]
  },
  {
   "cell_type": "code",
   "execution_count": 135,
   "metadata": {},
   "outputs": [
    {
     "name": "stdout",
     "output_type": "stream",
     "text": [
      "[[2.         2.         2.        ]\n",
      " [2.         2.         1.41421356]\n",
      " [1.41421356 1.41421356 2.23606798]]\n"
     ]
    },
    {
     "data": {
      "text/plain": [
       "array([[[ 0.        ,  1.        ],\n",
       "        [ 1.        ,  0.        ],\n",
       "        [-1.        ,  0.        ]],\n",
       "\n",
       "       [[ 0.        , -1.        ],\n",
       "        [-1.        ,  0.        ],\n",
       "        [ 0.70710678,  0.70710678]],\n",
       "\n",
       "       [[ 0.70710678, -0.70710678],\n",
       "        [-0.70710678,  0.70710678],\n",
       "        [ 0.89442719,  0.4472136 ]]])"
      ]
     },
     "execution_count": 135,
     "metadata": {},
     "output_type": "execute_result"
    }
   ],
   "source": [
    "#einsum testing ground\n",
    "\n",
    "a = np.array([[[0, 2], [2, 0], [-2, 0]],\n",
    "              [[0, -2], [-2, 0], [1, 1]],\n",
    "              [[1, -1], [-1, 1], [2, 1]]\n",
    "               ])\n",
    "b = np.sqrt(np.einsum('...i,...i', a, a))\n",
    "print(b) # gets the magnitudes...\n",
    "a/b[...,np.newaxis]"
   ]
  },
  {
   "cell_type": "code",
   "execution_count": null,
   "metadata": {},
   "outputs": [],
   "source": []
  }
 ],
 "metadata": {
  "kernelspec": {
   "display_name": "base",
   "language": "python",
   "name": "python3"
  },
  "language_info": {
   "codemirror_mode": {
    "name": "ipython",
    "version": 3
   },
   "file_extension": ".py",
   "mimetype": "text/x-python",
   "name": "python",
   "nbconvert_exporter": "python",
   "pygments_lexer": "ipython3",
   "version": "3.11.5"
  },
  "orig_nbformat": 4
 },
 "nbformat": 4,
 "nbformat_minor": 2
}
